{
 "cells": [
  {
   "cell_type": "markdown",
   "id": "e6691d89",
   "metadata": {},
   "source": [
    "# Web Scraping IMDB"
   ]
  },
  {
   "cell_type": "markdown",
   "id": "c70ce23b",
   "metadata": {},
   "source": [
    "# Step 1 : Install and import necessary Libraries"
   ]
  },
  {
   "cell_type": "code",
   "execution_count": 8,
   "id": "dbef9f0c",
   "metadata": {},
   "outputs": [],
   "source": [
    "from bs4 import BeautifulSoup\n",
    "import requests\n",
    "import re\n",
    "import pandas as pd"
   ]
  },
  {
   "cell_type": "markdown",
   "id": "18dab151",
   "metadata": {},
   "source": [
    "# Step 2 : Choose the data you need to extract"
   ]
  },
  {
   "cell_type": "markdown",
   "id": "e003cb8c",
   "metadata": {},
   "source": [
    "Access the HTML content from the webpage by assigning the URL and creating a soup object."
   ]
  },
  {
   "cell_type": "code",
   "execution_count": 9,
   "id": "d652538c",
   "metadata": {},
   "outputs": [],
   "source": [
    "\n",
    "# Downloading imdb top 250 movie's data\n",
    "\n",
    "url = 'http://www.imdb.com/chart/top'\n",
    "response = requests.get(url)\n",
    "#soup = BeautifulSoup(response.text, \"html.parser\")\n"
   ]
  },
  {
   "cell_type": "markdown",
   "id": "a4b6a034",
   "metadata": {},
   "source": [
    "# Step 3 : Send HTTP request to the URL of the page you want to scrape"
   ]
  },
  {
   "cell_type": "markdown",
   "id": "c9dd82de",
   "metadata": {},
   "source": [
    "Now that we have got the HTML content of the page, we need to parse the data and store it in soup variable to structure it into a different format which will help in data extraction."
   ]
  },
  {
   "cell_type": "code",
   "execution_count": 10,
   "id": "4e4de0e1",
   "metadata": {},
   "outputs": [],
   "source": [
    "soup = BeautifulSoup(response.text, \"html.parser\")"
   ]
  },
  {
   "cell_type": "code",
   "execution_count": 11,
   "id": "9aef04b4",
   "metadata": {},
   "outputs": [],
   "source": [
    "\n",
    "movies = soup.select('td.titleColumn')\n",
    "crew = [a.attrs.get('title') \n",
    "        for a in soup.select('td.titleColumn a')]\n",
    "ratings = [b.attrs.get('data-value')\n",
    "        for b in soup.select('td.posterColumn span[name=ir]')]\n"
   ]
  },
  {
   "cell_type": "code",
   "execution_count": 12,
   "id": "270c2ce2",
   "metadata": {},
   "outputs": [],
   "source": [
    "\n",
    "list = []                                                        # create an empty list for storing movie information\n",
    "for index in range(0, len(movies)):                              # Iterating over movies to extract each movie's details\n",
    "    movie_string = movies[index].get_text()                      # Separating movie into: 'place','title', 'year'\n",
    "    movie = (' '.join(movie_string.split()).replace('.', ''))\n",
    "    movie_title = movie[len(str(index))+1:-7]\n",
    "    year = re.search('\\((.*?)\\)', movie_string).group(1)\n",
    "    place = movie[:len(str(index))-(len(movie))]\n",
    "    data = {\"place\": place,\"movie_title\": movie_title,\"rating\": ratings[index],\"year\": year,\"star_cast\": crew[index]}\n",
    "    list.append(data)\n",
    "    "
   ]
  },
  {
   "cell_type": "markdown",
   "id": "21e1934f",
   "metadata": {},
   "source": [
    "# Step 4 : Inspect the page and write codes for extraction"
   ]
  },
  {
   "cell_type": "markdown",
   "id": "d3dc8252",
   "metadata": {},
   "source": [
    "list the top IMBD movies along with their details. Then display the list of movie details."
   ]
  },
  {
   "cell_type": "code",
   "execution_count": 13,
   "id": "f12a5a95",
   "metadata": {},
   "outputs": [
    {
     "name": "stdout",
     "output_type": "stream",
     "text": [
      "1 - The Shawshank Redemption (1994)- Starring: Frank Darabont (dir.), Tim Robbins, Morgan Freeman 9.235741315782999\n",
      "2 - The Godfather (1972)- Starring: Francis Ford Coppola (dir.), Marlon Brando, Al Pacino 9.155873305732717\n",
      "3 - The Dark Knight (2008)- Starring: Christopher Nolan (dir.), Christian Bale, Heath Ledger 8.99154099877385\n",
      "4 - The Godfather Part II (1974)- Starring: Francis Ford Coppola (dir.), Al Pacino, Robert De Niro 8.98382474525402\n",
      "5 - 12 Angry Men (1957)- Starring: Sidney Lumet (dir.), Henry Fonda, Lee J. Cobb 8.953003528146871\n",
      "6 - Schindler's List (1993)- Starring: Steven Spielberg (dir.), Liam Neeson, Ralph Fiennes 8.93996999006264\n",
      "7 - The Lord of the Rings: The Return of the King (2003)- Starring: Peter Jackson (dir.), Elijah Wood, Viggo Mortensen 8.932248191651524\n",
      "8 - Pulp Fiction (1994)- Starring: Quentin Tarantino (dir.), John Travolta, Uma Thurman 8.846418348029149\n",
      "9 - The Lord of the Rings: The Fellowship of the Ring (2001)- Starring: Peter Jackson (dir.), Elijah Wood, Ian McKellen 8.810895451591982\n",
      "1 -  Il buono, il brutto, il cattivo (1966)- Starring: Sergio Leone (dir.), Clint Eastwood, Eli Wallach 8.788974996555693\n",
      "11 - Forrest Gump (1994)- Starring: Robert Zemeckis (dir.), Tom Hanks, Robin Wright 8.76674235321445\n",
      "12 - Fight Club (1999)- Starring: David Fincher (dir.), Brad Pitt, Edward Norton 8.747858320269476\n",
      "13 - The Lord of the Rings: The Two Towers (2002)- Starring: Peter Jackson (dir.), Elijah Wood, Ian McKellen 8.736513874347732\n",
      "14 - Inception (2010)- Starring: Christopher Nolan (dir.), Leonardo DiCaprio, Joseph Gordon-Levitt 8.732705651066489\n",
      "15 - The Empire Strikes Back (1980)- Starring: Irvin Kershner (dir.), Mark Hamill, Harrison Ford 8.698490155485466\n",
      "16 - The Matrix (1999)- Starring: Lana Wachowski (dir.), Keanu Reeves, Laurence Fishburne 8.669115367066587\n",
      "17 - GoodFellas (1990)- Starring: Martin Scorsese (dir.), Robert De Niro, Ray Liotta 8.653216581529156\n",
      "18 - One Flew Over the Cuckoo's Nest (1975)- Starring: Milos Forman (dir.), Jack Nicholson, Louise Fletcher 8.638090470486121\n",
      "19 - Se7en (1995)- Starring: David Fincher (dir.), Morgan Freeman, Brad Pitt 8.604609884492792\n",
      "20 - Shichinin no samurai (1954)- Starring: Akira Kurosawa (dir.), Toshirô Mifune, Takashi Shimura 8.59773678363266\n",
      "21 - It's a Wonderful Life (1946)- Starring: Frank Capra (dir.), James Stewart, Donna Reed 8.597553217454292\n",
      "22 - The Silence of the Lambs (1991)- Starring: Jonathan Demme (dir.), Jodie Foster, Anthony Hopkins 8.588296399194741\n",
      "23 - Saving Private Ryan (1998)- Starring: Steven Spielberg (dir.), Tom Hanks, Matt Damon 8.579705842086124\n",
      "24 - Cidade de Deus (2002)- Starring: Fernando Meirelles (dir.), Alexandre Rodrigues, Leandro Firmino 8.579381757828942\n",
      "25 - Interstellar (2014)- Starring: Christopher Nolan (dir.), Matthew McConaughey, Anne Hathaway 8.57162063067782\n",
      "26 - La vita è bella (1997)- Starring: Roberto Benigni (dir.), Roberto Benigni, Nicoletta Braschi 8.56857158263598\n",
      "27 - The Green Mile (1999)- Starring: Frank Darabont (dir.), Tom Hanks, Michael Clarke Duncan 8.563516369213184\n",
      "28 - Star Wars (1977)- Starring: George Lucas (dir.), Mark Hamill, Harrison Ford 8.547936688494278\n",
      "29 - Terminator 2: Judgment Day (1991)- Starring: James Cameron (dir.), Arnold Schwarzenegger, Linda Hamilton 8.538049239576166\n",
      "30 - Back to the Future (1985)- Starring: Robert Zemeckis (dir.), Michael J. Fox, Christopher Lloyd 8.51780863646006\n",
      "31 - Sen to Chihiro no kamikakushi (2001)- Starring: Hayao Miyazaki (dir.), Daveigh Chase, Suzanne Pleshette 8.51589635622422\n",
      "32 - The Pianist (2002)- Starring: Roman Polanski (dir.), Adrien Brody, Thomas Kretschmann 8.507684365712436\n",
      "33 - Psycho (1960)- Starring: Alfred Hitchcock (dir.), Anthony Perkins, Janet Leigh 8.506313513786798\n",
      "34 - Gisaengchung (2019)- Starring: Bong Joon Ho (dir.), Song Kang-ho, Lee Sun-kyun 8.499972529151298\n",
      "35 - Léon (1994)- Starring: Luc Besson (dir.), Jean Reno, Gary Oldman 8.492892197805428\n",
      "36 - The Lion King (1994)- Starring: Roger Allers (dir.), Matthew Broderick, Jeremy Irons 8.487841260224707\n",
      "37 - Gladiator (2000)- Starring: Ridley Scott (dir.), Russell Crowe, Joaquin Phoenix 8.48714928946098\n",
      "38 - American History X (1998)- Starring: Tony Kaye (dir.), Edward Norton, Edward Furlong 8.481569617299794\n",
      "39 - The Departed (2006)- Starring: Martin Scorsese (dir.), Leonardo DiCaprio, Matt Damon 8.47621953746041\n",
      "40 - The Usual Suspects (1995)- Starring: Bryan Singer (dir.), Kevin Spacey, Gabriel Byrne 8.469287799612403\n",
      "41 - The Prestige (2006)- Starring: Christopher Nolan (dir.), Christian Bale, Hugh Jackman 8.469202849432644\n",
      "42 - Whiplash (2014)- Starring: Damien Chazelle (dir.), Miles Teller, J.K. Simmons 8.468784922755768\n",
      "43 - Casablanca (1942)- Starring: Michael Curtiz (dir.), Humphrey Bogart, Ingrid Bergman 8.46144620670805\n",
      "44 - Hotaru no haka (1988)- Starring: Isao Takahata (dir.), Tsutomu Tatsumi, Ayano Shiraishi 8.45635020755615\n",
      "45 - Seppuku (1962)- Starring: Masaki Kobayashi (dir.), Tatsuya Nakadai, Akira Ishihama 8.455756339988461\n",
      "46 - The Intouchables (2011)- Starring: Olivier Nakache (dir.), François Cluzet, Omar Sy 8.453356763448989\n",
      "47 - Modern Times (1936)- Starring: Charles Chaplin (dir.), Charles Chaplin, Paulette Goddard 8.446816322570617\n",
      "48 - Once Upon a Time in the West (1968)- Starring: Sergio Leone (dir.), Henry Fonda, Charles Bronson 8.440614400956104\n",
      "49 - Nuovo Cinema Paradiso (1988)- Starring: Giuseppe Tornatore (dir.), Philippe Noiret, Enzo Cannavale 8.435574612427017\n",
      "50 - Rear Window (1954)- Starring: Alfred Hitchcock (dir.), James Stewart, Grace Kelly 8.43532898234669\n",
      "51 - Alien (1979)- Starring: Ridley Scott (dir.), Sigourney Weaver, Tom Skerritt 8.433295150315342\n",
      "52 - City Lights (1931)- Starring: Charles Chaplin (dir.), Charles Chaplin, Virginia Cherrill 8.432060724509196\n",
      "53 - Apocalypse Now (1979)- Starring: Francis Ford Coppola (dir.), Martin Sheen, Marlon Brando 8.4228637377087\n",
      "54 - Memento (2000)- Starring: Christopher Nolan (dir.), Guy Pearce, Carrie-Anne Moss 8.419354933210332\n",
      "55 - Django Unchained (2012)- Starring: Quentin Tarantino (dir.), Jamie Foxx, Christoph Waltz 8.409049626546533\n",
      "56 - Raiders of the Lost Ark (1981)- Starring: Steven Spielberg (dir.), Harrison Ford, Karen Allen 8.40619496606712\n",
      "57 - WALL·E (2008)- Starring: Andrew Stanton (dir.), Ben Burtt, Elissa Knight 8.395313160707193\n",
      "58 - The Lives of Others (2006)- Starring: Florian Henckel von Donnersmarck (dir.), Ulrich Mühe, Martina Gedeck 8.383832428622457\n",
      "59 - Sunset Blvd (1950)- Starring: Billy Wilder (dir.), William Holden, Gloria Swanson 8.378834672400158\n",
      "60 - Paths of Glory (1957)- Starring: Stanley Kubrick (dir.), Kirk Douglas, Ralph Meeker 8.371370010989041\n",
      "61 - The Shining (1980)- Starring: Stanley Kubrick (dir.), Jack Nicholson, Shelley Duvall 8.364861046484007\n",
      "62 - The Great Dictator (1940)- Starring: Charles Chaplin (dir.), Charles Chaplin, Paulette Goddard 8.363931101264333\n",
      "63 - Avengers: Infinity War (2018)- Starring: Anthony Russo (dir.), Robert Downey Jr., Chris Hemsworth 8.361880596703081\n",
      "64 - Witness for the Prosecution (1957)- Starring: Billy Wilder (dir.), Tyrone Power, Marlene Dietrich 8.359644683424916\n",
      "65 - Aliens (1986)- Starring: James Cameron (dir.), Sigourney Weaver, Michael Biehn 8.34293440805068\n",
      "66 - Spider-Man: Into the Spider-Verse (2018)- Starring: Bob Persichetti (dir.), Shameik Moore, Jake Johnson 8.338272721518265\n",
      "67 - American Beauty (1999)- Starring: Sam Mendes (dir.), Kevin Spacey, Annette Bening 8.330030272674888\n",
      "68 - Dr Strangelove or: How I Learned to Stop Worrying and Love the Bomb (1964)- Starring: Stanley Kubrick (dir.), Peter Sellers, George C. Scott 8.327300721378883\n",
      "69 - The Dark Knight Rises (2012)- Starring: Christopher Nolan (dir.), Christian Bale, Tom Hardy 8.32611275171729\n",
      "70 - Oldeuboi (2003)- Starring: Park Chan-wook (dir.), Choi Min-sik, Yoo Ji-tae 8.320103104780543\n",
      "71 - Inglourious Basterds (2009)- Starring: Quentin Tarantino (dir.), Brad Pitt, Diane Kruger 8.318526908085326\n",
      "72 - Amadeus (1984)- Starring: Milos Forman (dir.), F. Murray Abraham, Tom Hulce 8.316379601305995\n",
      "73 - Coco (2017)- Starring: Lee Unkrich (dir.), Anthony Gonzalez, Gael García Bernal 8.315199852963582\n",
      "74 - Toy Story (1995)- Starring: John Lasseter (dir.), Tom Hanks, Tim Allen 8.31397627017295\n",
      "75 - Joker (2019)- Starring: Todd Phillips (dir.), Joaquin Phoenix, Robert De Niro 8.312755004348134\n",
      "76 - Braveheart (1995)- Starring: Mel Gibson (dir.), Mel Gibson, Sophie Marceau 8.312577233919297\n",
      "77 - Das Boot (1981)- Starring: Wolfgang Petersen (dir.), Jürgen Prochnow, Herbert Grönemeyer 8.311819050724173\n",
      "78 - Avengers: Endgame (2019)- Starring: Anthony Russo (dir.), Robert Downey Jr., Chris Evans 8.3038135809137\n",
      "79 - Mononoke-hime (1997)- Starring: Hayao Miyazaki (dir.), Yôji Matsuda, Yuriko Ishida 8.303052229100139\n",
      "80 - Once Upon a Time in America (1984)- Starring: Sergio Leone (dir.), Robert De Niro, James Woods 8.294565445343473\n",
      "81 - Good Will Hunting (1997)- Starring: Gus Van Sant (dir.), Robin Williams, Matt Damon 8.292813183619131\n",
      "82 - Kimi no na wa (2016)- Starring: Makoto Shinkai (dir.), Ryunosuke Kamiki, Mone Kamishiraishi 8.282750873535255\n",
      "83 - Singin' in the Rain (1952)- Starring: Stanley Donen (dir.), Gene Kelly, Donald O'Connor 8.27521546880146\n",
      "84 - 3 Idiots (2009)- Starring: Rajkumar Hirani (dir.), Aamir Khan, Madhavan 8.274899779712952\n",
      "85 - Requiem for a Dream (2000)- Starring: Darren Aronofsky (dir.), Ellen Burstyn, Jared Leto 8.273736391073546\n",
      "86 - Tengoku to jigoku (1963)- Starring: Akira Kurosawa (dir.), Toshirô Mifune, Yutaka Sada 8.272381763387676\n",
      "87 - Toy Story 3 (2010)- Starring: Lee Unkrich (dir.), Tom Hanks, Tim Allen 8.270823770609477\n",
      "88 - Capharnaüm (2018)- Starring: Nadine Labaki (dir.), Zain Al Rafeea, Yordanos Shiferaw 8.266953063016436\n",
      "89 - Star Wars: Episode VI - Return of the Jedi (1983)- Starring: Richard Marquand (dir.), Mark Hamill, Harrison Ford 8.264118227648254\n",
      "90 - 2001: A Space Odyssey (1968)- Starring: Stanley Kubrick (dir.), Keir Dullea, Gary Lockwood 8.261650237274791\n",
      "91 - Eternal Sunshine of the Spotless Mind (2004)- Starring: Michel Gondry (dir.), Jim Carrey, Kate Winslet 8.2616223445578\n",
      "92 - Idi i smotri (1985)- Starring: Elem Klimov (dir.), Aleksey Kravchenko, Olga Mironova 8.259310647027855\n",
      "93 - Reservoir Dogs (1992)- Starring: Quentin Tarantino (dir.), Harvey Keitel, Tim Roth 8.25887252385726\n",
      "94 - Jagten (2012)- Starring: Thomas Vinterberg (dir.), Mads Mikkelsen, Thomas Bo Larsen 8.257349953505072\n",
      "95 - Citizen Kane (1941)- Starring: Orson Welles (dir.), Orson Welles, Joseph Cotten 8.250133507156317\n",
      "96 - M - Eine Stadt sucht einen Mörder (1931)- Starring: Fritz Lang (dir.), Peter Lorre, Ellen Widmann 8.249973924618676\n",
      "97 - Lawrence of Arabia (1962)- Starring: David Lean (dir.), Peter O'Toole, Alec Guinness 8.24951201985668\n",
      "98 - North by Northwest (1959)- Starring: Alfred Hitchcock (dir.), Cary Grant, Eva Marie Saint 8.24559272133229\n",
      "99 - Ikiru (1952)- Starring: Akira Kurosawa (dir.), Takashi Shimura, Nobuo Kaneko 8.243869262472662\n",
      "10 -  Vertigo (1958)- Starring: Alfred Hitchcock (dir.), James Stewart, Kim Novak 8.242622999735321\n",
      "101 - The Apartment (1960)- Starring: Billy Wilder (dir.), Jack Lemmon, Shirley MacLaine 8.241885151590504\n",
      "102 - Le fabuleux destin d'Amélie Poulain (2001)- Starring: Jean-Pierre Jeunet (dir.), Audrey Tautou, Mathieu Kassovitz 8.24111502001366\n",
      "103 - A Clockwork Orange (1971)- Starring: Stanley Kubrick (dir.), Malcolm McDowell, Patrick Magee 8.238403376020841\n",
      "104 - Double Indemnity (1944)- Starring: Billy Wilder (dir.), Fred MacMurray, Barbara Stanwyck 8.237762066016172\n",
      "105 - Full Metal Jacket (1987)- Starring: Stanley Kubrick (dir.), Matthew Modine, R. Lee Ermey 8.23683584304167\n",
      "106 - Scarface (1983)- Starring: Brian De Palma (dir.), Al Pacino, Michelle Pfeiffer 8.234724347241812\n",
      "107 - Hamilton (2020)- Starring: Thomas Kail (dir.), Lin-Manuel Miranda, Phillipa Soo 8.232670004553706\n",
      "108 - Incendies (2010)- Starring: Denis Villeneuve (dir.), Lubna Azabal, Mélissa Désormeaux-Poulin 8.226844206157045\n",
      "109 - Heat (1995)- Starring: Michael Mann (dir.), Al Pacino, Robert De Niro 8.225739961101766\n",
      "110 - To Kill a Mockingbird (1962)- Starring: Robert Mulligan (dir.), Gregory Peck, John Megna 8.225366825929026\n",
      "111 - The Sting (1973)- Starring: George Roy Hill (dir.), Paul Newman, Robert Redford 8.224737252232764\n",
      "112 - Up (2009)- Starring: Pete Docter (dir.), Edward Asner, Jordan Nagai 8.224698272603122\n",
      "113 - Jodaeiye Nader az Simin (2011)- Starring: Asghar Farhadi (dir.), Payman Maadi, Leila Hatami 8.221101809604859\n",
      "114 - Metropolis (1927)- Starring: Fritz Lang (dir.), Brigitte Helm, Alfred Abel 8.220846926659103\n",
      "115 - Top Gun: Maverick (2022)- Starring: Joseph Kosinski (dir.), Tom Cruise, Jennifer Connelly 8.219385166587355\n",
      "116 - Taxi Driver (1976)- Starring: Martin Scorsese (dir.), Robert De Niro, Jodie Foster 8.219227365869358\n",
      "117 - LA Confidential (1997)- Starring: Curtis Hanson (dir.), Kevin Spacey, Russell Crowe 8.218448946219654\n",
      "118 - Die Hard (1988)- Starring: John McTiernan (dir.), Bruce Willis, Alan Rickman 8.21767317040325\n",
      "119 - Snatch (2000)- Starring: Guy Ritchie (dir.), Jason Statham, Brad Pitt 8.21700355767234\n",
      "120 - Indiana Jones and the Last Crusade (1989)- Starring: Steven Spielberg (dir.), Harrison Ford, Sean Connery 8.216785981971247\n",
      "121 - Ladri di biciclette (1948)- Starring: Vittorio De Sica (dir.), Lamberto Maggiorani, Enzo Staiola 8.215789302725495\n",
      "122 - Taare Zameen Par (2007)- Starring: Aamir Khan (dir.), Darsheel Safary, Aamir Khan 8.21257368676405\n",
      "123 - 1917 (2019)- Starring: Sam Mendes (dir.), Dean-Charles Chapman, George MacKay 8.211088360464636\n",
      "124 - Der Untergang (2004)- Starring: Oliver Hirschbiegel (dir.), Bruno Ganz, Alexandra Maria Lara 8.203231343890014\n",
      "125 - Dangal (2016)- Starring: Nitesh Tiwari (dir.), Aamir Khan, Sakshi Tanwar 8.200060565653523\n",
      "126 - Per qualche dollaro in più (1965)- Starring: Sergio Leone (dir.), Clint Eastwood, Lee Van Cleef 8.198999859650371\n",
      "127 - Batman Begins (2005)- Starring: Christopher Nolan (dir.), Christian Bale, Michael Caine 8.197239043135367\n",
      "128 - The Kid (1921)- Starring: Charles Chaplin (dir.), Charles Chaplin, Edna Purviance 8.190936634752925\n",
      "129 - Some Like It Hot (1959)- Starring: Billy Wilder (dir.), Marilyn Monroe, Tony Curtis 8.19037083339587\n",
      "130 - The Father (2020)- Starring: Florian Zeller (dir.), Anthony Hopkins, Olivia Colman 8.181864984188595\n",
      "131 - All About Eve (1950)- Starring: Joseph L. Mankiewicz (dir.), Bette Davis, Anne Baxter 8.180017039656791\n",
      "132 - The Wolf of Wall Street (2013)- Starring: Martin Scorsese (dir.), Leonardo DiCaprio, Jonah Hill 8.177897451915063\n",
      "133 - Green Book (2018)- Starring: Peter Farrelly (dir.), Viggo Mortensen, Mahershala Ali 8.17777999127212\n",
      "134 - Judgment at Nuremberg (1961)- Starring: Stanley Kramer (dir.), Spencer Tracy, Burt Lancaster 8.171685549734981\n",
      "135 - Ran (1985)- Starring: Akira Kurosawa (dir.), Tatsuya Nakadai, Akira Terao 8.164413258239021\n",
      "136 - Casino (1995)- Starring: Martin Scorsese (dir.), Robert De Niro, Sharon Stone 8.163939563560179\n",
      "137 - The Truman Show (1998)- Starring: Peter Weir (dir.), Jim Carrey, Ed Harris 8.161092985870122\n",
      "138 - Pan's Labyrinth (2006)- Starring: Guillermo del Toro (dir.), Ivana Baquero, Ariadna Gil 8.160472441942\n",
      "139 - There Will Be Blood (2007)- Starring: Paul Thomas Anderson (dir.), Daniel Day-Lewis, Paul Dano 8.160389245521317\n",
      "140 - Unforgiven (1992)- Starring: Clint Eastwood (dir.), Clint Eastwood, Gene Hackman 8.158670623401507\n",
      "141 - The Sixth Sense (1999)- Starring: M. Night Shyamalan (dir.), Bruce Willis, Haley Joel Osment 8.154586635604305\n",
      "142 - Shutter Island (2010)- Starring: Martin Scorsese (dir.), Leonardo DiCaprio, Emily Mortimer 8.15318447462765\n",
      "143 - A Beautiful Mind (2001)- Starring: Ron Howard (dir.), Russell Crowe, Ed Harris 8.15094120238603\n",
      "144 - Jurassic Park (1993)- Starring: Steven Spielberg (dir.), Sam Neill, Laura Dern 8.149303482611252\n",
      "145 - Yôjinbô (1961)- Starring: Akira Kurosawa (dir.), Toshirô Mifune, Eijirô Tôno 8.147602624294564\n",
      "146 - The Treasure of the Sierra Madre (1948)- Starring: John Huston (dir.), Humphrey Bogart, Walter Huston 8.147099428176276\n",
      "147 - Monty Python and the Holy Grail (1975)- Starring: Terry Gilliam (dir.), Graham Chapman, John Cleese 8.145525893452376\n",
      "148 - No Country for Old Men (2007)- Starring: Ethan Coen (dir.), Tommy Lee Jones, Javier Bardem 8.140098108330035\n",
      "149 - The Great Escape (1963)- Starring: John Sturges (dir.), Steve McQueen, James Garner 8.139879617605501\n",
      "150 - Kill Bill: Vol 1 (2003)- Starring: Quentin Tarantino (dir.), Uma Thurman, David Carradine 8.13897379956927\n",
      "151 - Rashômon (1950)- Starring: Akira Kurosawa (dir.), Toshirô Mifune, Machiko Kyô 8.138005881961199\n",
      "152 - Spider-Man: No Way Home (2021)- Starring: Jon Watts (dir.), Tom Holland, Zendaya 8.135703233404051\n",
      "153 - The Thing (1982)- Starring: John Carpenter (dir.), Kurt Russell, Wilford Brimley 8.133772801020587\n",
      "154 - Finding Nemo (2003)- Starring: Andrew Stanton (dir.), Albert Brooks, Ellen DeGeneres 8.131362337842361\n",
      "155 - The Elephant Man (1980)- Starring: David Lynch (dir.), Anthony Hopkins, John Hurt 8.126853980738167\n",
      "156 - Chinatown (1974)- Starring: Roman Polanski (dir.), Jack Nicholson, Faye Dunaway 8.125391426333676\n",
      "157 - Raging Bull (1980)- Starring: Martin Scorsese (dir.), Robert De Niro, Cathy Moriarty 8.122909117541159\n",
      "158 - V for Vendetta (2005)- Starring: James McTeigue (dir.), Hugo Weaving, Natalie Portman 8.122540060795867\n",
      "159 - Gone with the Wind (1939)- Starring: Victor Fleming (dir.), Clark Gable, Vivien Leigh 8.121681145985454\n",
      "160 - Lock, Stock and Two Smoking Barrels (1998)- Starring: Guy Ritchie (dir.), Jason Flemyng, Dexter Fletcher 8.120189685653944\n",
      "161 - Inside Out (2015)- Starring: Pete Docter (dir.), Amy Poehler, Bill Hader 8.119888618338841\n",
      "162 - Dial M for Murder (1954)- Starring: Alfred Hitchcock (dir.), Ray Milland, Grace Kelly 8.119659361635888\n",
      "163 - El secreto de sus ojos (2009)- Starring: Juan José Campanella (dir.), Ricardo Darín, Soledad Villamil 8.118032581356667\n",
      "164 - Hauru no ugoku shiro (2004)- Starring: Hayao Miyazaki (dir.), Chieko Baisho, Takuya Kimura 8.11749091455983\n",
      "165 - Three Billboards Outside Ebbing, Missouri (2017)- Starring: Martin McDonagh (dir.), Frances McDormand, Woody Harrelson 8.11131690127521\n",
      "166 - Trainspotting (1996)- Starring: Danny Boyle (dir.), Ewan McGregor, Ewen Bremner 8.110357613964153\n",
      "167 - The Bridge on the River Kwai (1957)- Starring: David Lean (dir.), William Holden, Alec Guinness 8.110320838731706\n",
      "168 - Prisoners (2013)- Starring: Denis Villeneuve (dir.), Hugh Jackman, Jake Gyllenhaal 8.106354877344723\n",
      "169 - Warrior (2011)- Starring: Gavin O'Connor (dir.), Tom Hardy, Nick Nolte 8.10264915213943\n",
      "170 - Fargo (1996)- Starring: Joel Coen (dir.), William H. Macy, Frances McDormand 8.102380888684637\n",
      "171 - Gran Torino (2008)- Starring: Clint Eastwood (dir.), Clint Eastwood, Bee Vang 8.10033090067573\n",
      "172 - Tonari no Totoro (1988)- Starring: Hayao Miyazaki (dir.), Hitoshi Takagi, Noriko Hidaka 8.092231427236175\n",
      "173 - Catch Me If You Can (2002)- Starring: Steven Spielberg (dir.), Leonardo DiCaprio, Tom Hanks 8.091438960090207\n",
      "174 - Million Dollar Baby (2004)- Starring: Clint Eastwood (dir.), Hilary Swank, Clint Eastwood 8.088692316286151\n",
      "175 - Bacheha-Ye aseman (1997)- Starring: Majid Majidi (dir.), Mohammad Amir Naji, Amir Farrokh Hashemian 8.086198500480764\n",
      "176 - Blade Runner (1982)- Starring: Ridley Scott (dir.), Harrison Ford, Rutger Hauer 8.084660985398113\n",
      "177 - The Gold Rush (1925)- Starring: Charles Chaplin (dir.), Charles Chaplin, Mack Swain 8.084453182549533\n",
      "178 - Klaus (2019)- Starring: Sergio Pablos (dir.), Jason Schwartzman, J.K. Simmons 8.081575083632274\n",
      "179 - Harry Potter and the Deathly Hallows: Part 2 (2011)- Starring: David Yates (dir.), Daniel Radcliffe, Emma Watson 8.08097393698981\n",
      "180 - Before Sunrise (1995)- Starring: Richard Linklater (dir.), Ethan Hawke, Julie Delpy 8.080970438763504\n",
      "181 - 12 Years a Slave (2013)- Starring: Steve McQueen (dir.), Chiwetel Ejiofor, Michael Kenneth Williams 8.080586418103374\n",
      "182 - On the Waterfront (1954)- Starring: Elia Kazan (dir.), Marlon Brando, Karl Malden 8.07895093817184\n",
      "183 - Ben-Hur (1959)- Starring: William Wyler (dir.), Charlton Heston, Jack Hawkins 8.077944331279221\n",
      "184 - The Grand Budapest Hotel (2014)- Starring: Wes Anderson (dir.), Ralph Fiennes, F. Murray Abraham 8.077179494654295\n",
      "185 - Gone Girl (2014)- Starring: David Fincher (dir.), Ben Affleck, Rosamund Pike 8.076966215934748\n",
      "186 - Smultronstället (1957)- Starring: Ingmar Bergman (dir.), Victor Sjöström, Bibi Andersson 8.076074946833286\n",
      "187 - The General (1926)- Starring: Clyde Bruckman (dir.), Buster Keaton, Marion Mack 8.075298673077393\n",
      "188 - In the Name of the Father (1993)- Starring: Jim Sheridan (dir.), Daniel Day-Lewis, Pete Postlethwaite 8.073872668687176\n",
      "189 - The Third Man (1949)- Starring: Carol Reed (dir.), Orson Welles, Joseph Cotten 8.0738018338724\n",
      "190 - Barry Lyndon (1975)- Starring: Stanley Kubrick (dir.), Ryan O'Neal, Marisa Berenson 8.073765125159694\n",
      "191 - The Deer Hunter (1978)- Starring: Michael Cimino (dir.), Robert De Niro, Christopher Walken 8.073413989805731\n",
      "192 - Hacksaw Ridge (2016)- Starring: Mel Gibson (dir.), Andrew Garfield, Sam Worthington 8.071149969245061\n",
      "193 - Le salaire de la peur (1953)- Starring: Henri-Georges Clouzot (dir.), Yves Montand, Charles Vanel 8.070297903674547\n",
      "194 - Salinui chueok (2003)- Starring: Bong Joon Ho (dir.), Song Kang-ho, Kim Sang-kyung 8.068982269850675\n",
      "195 - Sherlock Jr (1924)- Starring: Buster Keaton (dir.), Buster Keaton, Kathryn McGuire 8.06818512404846\n",
      "196 - Relatos salvajes (2014)- Starring: Damián Szifron (dir.), Darío Grandinetti, María Marull 8.067620050284344\n",
      "197 - Mr Smith Goes to Washington (1939)- Starring: Frank Capra (dir.), James Stewart, Jean Arthur 8.0664985403335\n",
      "198 - Mad Max: Fury Road (2015)- Starring: George Miller (dir.), Tom Hardy, Charlize Theron 8.06355159302574\n",
      "199 - Mary and Max (2009)- Starring: Adam Elliot (dir.), Toni Collette, Philip Seymour Hoffman 8.062877447009695\n",
      "200 - Det sjunde inseglet (1957)- Starring: Ingmar Bergman (dir.), Max von Sydow, Gunnar Björnstrand 8.062079673803106\n",
      "201 - How to Train Your Dragon (2010)- Starring: Dean DeBlois (dir.), Jay Baruchel, Gerard Butler 8.061407112624503\n",
      "202 - Monsters, Inc (2001)- Starring: Pete Docter (dir.), Billy Crystal, John Goodman 8.060636069790105\n",
      "203 - Room (2015)- Starring: Lenny Abrahamson (dir.), Brie Larson, Jacob Tremblay 8.060278786339612\n",
      "204 - Jaws (1975)- Starring: Steven Spielberg (dir.), Roy Scheider, Robert Shaw 8.060022473690733\n",
      "205 - Dead Poets Society (1989)- Starring: Peter Weir (dir.), Robin Williams, Robert Sean Leonard 8.059722874170557\n",
      "206 - The Big Lebowski (1998)- Starring: Joel Coen (dir.), Jeff Bridges, John Goodman 8.058186582699086\n",
      "207 - Tôkyô monogatari (1953)- Starring: Yasujirô Ozu (dir.), Chishû Ryû, Chieko Higashiyama 8.055095278057484\n",
      "208 - La passion de Jeanne d'Arc (1928)- Starring: Carl Theodor Dreyer (dir.), Maria Falconetti, Eugene Silvain 8.053499758896377\n",
      "209 - Ford v Ferrari (2019)- Starring: James Mangold (dir.), Matt Damon, Christian Bale 8.04939852931802\n",
      "210 - Hotel Rwanda (2004)- Starring: Terry George (dir.), Don Cheadle, Sophie Okonedo 8.048678849662869\n",
      "211 - Rocky (1976)- Starring: John G. Avildsen (dir.), Sylvester Stallone, Talia Shire 8.046814723616917\n",
      "212 - Platoon (1986)- Starring: Oliver Stone (dir.), Charlie Sheen, Tom Berenger 8.044287175698\n",
      "213 - Ratatouille (2007)- Starring: Brad Bird (dir.), Brad Garrett, Lou Romano 8.042492082735446\n",
      "214 - Spotlight (2015)- Starring: Tom McCarthy (dir.), Mark Ruffalo, Michael Keaton 8.04090216547431\n",
      "215 - The Terminator (1984)- Starring: James Cameron (dir.), Arnold Schwarzenegger, Linda Hamilton 8.040140327294491\n",
      "216 - Logan (2017)- Starring: James Mangold (dir.), Hugh Jackman, Patrick Stewart 8.04004775800409\n",
      "217 - Stand by Me (1986)- Starring: Rob Reiner (dir.), Wil Wheaton, River Phoenix 8.03760273277375\n",
      "218 - Rush (2013)- Starring: Ron Howard (dir.), Daniel Brühl, Chris Hemsworth 8.035416165008519\n",
      "219 - Network (1976)- Starring: Sidney Lumet (dir.), Faye Dunaway, William Holden 8.034621739358462\n",
      "220 - Before Sunset (2004)- Starring: Richard Linklater (dir.), Ethan Hawke, Julie Delpy 8.032549398118809\n",
      "221 - Into the Wild (2007)- Starring: Sean Penn (dir.), Emile Hirsch, Vince Vaughn 8.03168787096197\n",
      "222 - The Wizard of Oz (1939)- Starring: Victor Fleming (dir.), Judy Garland, Frank Morgan 8.030698419819128\n",
      "223 - The Best Years of Our Lives (1946)- Starring: William Wyler (dir.), Myrna Loy, Dana Andrews 8.028134834723367\n",
      "224 - Groundhog Day (1993)- Starring: Harold Ramis (dir.), Bill Murray, Andie MacDowell 8.027397279651332\n",
      "225 - The Exorcist (1973)- Starring: William Friedkin (dir.), Ellen Burstyn, Max von Sydow 8.026451776295564\n",
      "226 - Pather Panchali (1955)- Starring: Satyajit Ray (dir.), Kanu Bannerjee, Karuna Bannerjee 8.02622277817365\n",
      "227 - To Be or Not to Be (1942)- Starring: Ernst Lubitsch (dir.), Carole Lombard, Jack Benny 8.02516307147402\n",
      "228 - The Incredibles (2004)- Starring: Brad Bird (dir.), Craig T. Nelson, Samuel L. Jackson 8.024911679268518\n",
      "229 - La haine (1995)- Starring: Mathieu Kassovitz (dir.), Vincent Cassel, Hubert Koundé 8.02395262323746\n",
      "230 - Pirates of the Caribbean: The Curse of the Black Pearl (2003)- Starring: Gore Verbinski (dir.), Johnny Depp, Geoffrey Rush 8.02311242750991\n",
      "231 - La battaglia di Algeri (1966)- Starring: Gillo Pontecorvo (dir.), Brahim Hadjadj, Jean Martin 8.022553610535484\n",
      "232 - Hachi: A Dog's Tale (2009)- Starring: Lasse Hallström (dir.), Richard Gere, Joan Allen 8.022201296682882\n",
      "233 - The Grapes of Wrath (1940)- Starring: John Ford (dir.), Henry Fonda, Jane Darwell 8.021933956885693\n",
      "234 - Jai Bhim (2021)- Starring: T.J. Gnanavel (dir.), Suriya, Lijo Mol Jose 8.021865818911381\n",
      "235 - Babam ve Oglum (2005)- Starring: Çagan Irmak (dir.), Çetin Tekindor, Fikret Kuskan 8.020043155939982\n",
      "236 - Amores perros (2000)- Starring: Alejandro G. Iñárritu (dir.), Emilio Echevarría, Gael García Bernal 8.019775253193536\n",
      "237 - Rebecca (1940)- Starring: Alfred Hitchcock (dir.), Laurence Olivier, Joan Fontaine 8.01935333969889\n",
      "238 - Cool Hand Luke (1967)- Starring: Stuart Rosenberg (dir.), Paul Newman, George Kennedy 8.018564231232236\n",
      "239 - Ah-ga-ssi (2016)- Starring: Park Chan-wook (dir.), Kim Min-hee, Ha Jung-woo 8.016943723931325\n",
      "240 - Les quatre cents coups (1959)- Starring: François Truffaut (dir.), Jean-Pierre Léaud, Albert Rémy 8.013810543516664\n",
      "241 - The Sound of Music (1965)- Starring: Robert Wise (dir.), Julie Andrews, Christopher Plummer 8.013245355816013\n",
      "242 - It Happened One Night (1934)- Starring: Frank Capra (dir.), Clark Gable, Claudette Colbert 8.012749985294148\n",
      "243 - Persona (1966)- Starring: Ingmar Bergman (dir.), Bibi Andersson, Liv Ullmann 8.011818561199108\n",
      "244 - Life of Brian (1979)- Starring: Terry Jones (dir.), Graham Chapman, John Cleese 8.009374065796626\n",
      "245 - The Iron Giant (1999)- Starring: Brad Bird (dir.), Eli Marienthal, Harry Connick Jr. 8.006090723699232\n",
      "246 - Dersu Uzala (1975)- Starring: Akira Kurosawa (dir.), Maksim Munzuk, Yuriy Solomin 8.00535929399684\n",
      "247 - The Help (2011)- Starring: Tate Taylor (dir.), Viola Davis, Emma Stone 8.00519713151864\n",
      "248 - Aladdin (1992)- Starring: Ron Clements (dir.), Scott Weinger, Robin Williams 8.003952907666312\n",
      "249 - Dances with Wolves (1990)- Starring: Kevin Costner (dir.), Kevin Costner, Mary McDonnell 8.001788111662409\n",
      "250 - Gandhi (1982)- Starring: Richard Attenborough (dir.), Ben Kingsley, John Gielgud 8.001709332300146\n"
     ]
    }
   ],
   "source": [
    "\n",
    "for movie in list:\n",
    "    print(movie['place'], '-', movie['movie_title'], '('+movie['year'] +')-', 'Starring:', movie['star_cast'], movie['rating'])\n",
    "    "
   ]
  },
  {
   "cell_type": "code",
   "execution_count": 14,
   "id": "cbad6646",
   "metadata": {},
   "outputs": [],
   "source": [
    "# saving the list as dataframe then converting into imdb_top_250_movies.csv file\n",
    "\n",
    "df = pd.DataFrame(list)\n",
    "df.to_csv('imdb_top_250_movies.csv',index=False)\n"
   ]
  },
  {
   "cell_type": "markdown",
   "id": "82aec5b1",
   "metadata": {},
   "source": [
    "# Data Visualization and EDA"
   ]
  },
  {
   "cell_type": "markdown",
   "id": "1c92baa9",
   "metadata": {},
   "source": [
    "# Import Libraries"
   ]
  },
  {
   "cell_type": "code",
   "execution_count": 15,
   "id": "aaa86442",
   "metadata": {},
   "outputs": [],
   "source": [
    "# import data visualization and manipulation libraries\n",
    "\n",
    "import numpy as np\n",
    "import pandas as pd\n",
    "import matplotlib\n",
    "import matplotlib.pyplot as plt\n",
    "import seaborn as sns\n"
   ]
  },
  {
   "cell_type": "markdown",
   "id": "eadd5df5",
   "metadata": {},
   "source": [
    "# Step 1 : Loading the Dataset ( IMDB )"
   ]
  },
  {
   "cell_type": "code",
   "execution_count": 16,
   "id": "7a6f6bc7",
   "metadata": {},
   "outputs": [],
   "source": [
    "# read the csv file into dataframe object\n",
    "\n",
    "imdb_df=pd.read_csv(\"imdb_top_250_movies.csv\")"
   ]
  },
  {
   "cell_type": "code",
   "execution_count": 17,
   "id": "12e6afb5",
   "metadata": {},
   "outputs": [
    {
     "data": {
      "text/html": [
       "<div>\n",
       "<style scoped>\n",
       "    .dataframe tbody tr th:only-of-type {\n",
       "        vertical-align: middle;\n",
       "    }\n",
       "\n",
       "    .dataframe tbody tr th {\n",
       "        vertical-align: top;\n",
       "    }\n",
       "\n",
       "    .dataframe thead th {\n",
       "        text-align: right;\n",
       "    }\n",
       "</style>\n",
       "<table border=\"1\" class=\"dataframe\">\n",
       "  <thead>\n",
       "    <tr style=\"text-align: right;\">\n",
       "      <th></th>\n",
       "      <th>place</th>\n",
       "      <th>movie_title</th>\n",
       "      <th>rating</th>\n",
       "      <th>year</th>\n",
       "      <th>star_cast</th>\n",
       "    </tr>\n",
       "  </thead>\n",
       "  <tbody>\n",
       "    <tr>\n",
       "      <th>0</th>\n",
       "      <td>1</td>\n",
       "      <td>The Shawshank Redemption</td>\n",
       "      <td>9.235741</td>\n",
       "      <td>1994</td>\n",
       "      <td>Frank Darabont (dir.), Tim Robbins, Morgan Fre...</td>\n",
       "    </tr>\n",
       "    <tr>\n",
       "      <th>1</th>\n",
       "      <td>2</td>\n",
       "      <td>The Godfather</td>\n",
       "      <td>9.155873</td>\n",
       "      <td>1972</td>\n",
       "      <td>Francis Ford Coppola (dir.), Marlon Brando, Al...</td>\n",
       "    </tr>\n",
       "    <tr>\n",
       "      <th>2</th>\n",
       "      <td>3</td>\n",
       "      <td>The Dark Knight</td>\n",
       "      <td>8.991541</td>\n",
       "      <td>2008</td>\n",
       "      <td>Christopher Nolan (dir.), Christian Bale, Heat...</td>\n",
       "    </tr>\n",
       "    <tr>\n",
       "      <th>3</th>\n",
       "      <td>4</td>\n",
       "      <td>The Godfather Part II</td>\n",
       "      <td>8.983825</td>\n",
       "      <td>1974</td>\n",
       "      <td>Francis Ford Coppola (dir.), Al Pacino, Robert...</td>\n",
       "    </tr>\n",
       "    <tr>\n",
       "      <th>4</th>\n",
       "      <td>5</td>\n",
       "      <td>12 Angry Men</td>\n",
       "      <td>8.953004</td>\n",
       "      <td>1957</td>\n",
       "      <td>Sidney Lumet (dir.), Henry Fonda, Lee J. Cobb</td>\n",
       "    </tr>\n",
       "    <tr>\n",
       "      <th>...</th>\n",
       "      <td>...</td>\n",
       "      <td>...</td>\n",
       "      <td>...</td>\n",
       "      <td>...</td>\n",
       "      <td>...</td>\n",
       "    </tr>\n",
       "    <tr>\n",
       "      <th>245</th>\n",
       "      <td>246</td>\n",
       "      <td>Dersu Uzala</td>\n",
       "      <td>8.005359</td>\n",
       "      <td>1975</td>\n",
       "      <td>Akira Kurosawa (dir.), Maksim Munzuk, Yuriy So...</td>\n",
       "    </tr>\n",
       "    <tr>\n",
       "      <th>246</th>\n",
       "      <td>247</td>\n",
       "      <td>The Help</td>\n",
       "      <td>8.005197</td>\n",
       "      <td>2011</td>\n",
       "      <td>Tate Taylor (dir.), Viola Davis, Emma Stone</td>\n",
       "    </tr>\n",
       "    <tr>\n",
       "      <th>247</th>\n",
       "      <td>248</td>\n",
       "      <td>Aladdin</td>\n",
       "      <td>8.003953</td>\n",
       "      <td>1992</td>\n",
       "      <td>Ron Clements (dir.), Scott Weinger, Robin Will...</td>\n",
       "    </tr>\n",
       "    <tr>\n",
       "      <th>248</th>\n",
       "      <td>249</td>\n",
       "      <td>Dances with Wolves</td>\n",
       "      <td>8.001788</td>\n",
       "      <td>1990</td>\n",
       "      <td>Kevin Costner (dir.), Kevin Costner, Mary McDo...</td>\n",
       "    </tr>\n",
       "    <tr>\n",
       "      <th>249</th>\n",
       "      <td>250</td>\n",
       "      <td>Gandhi</td>\n",
       "      <td>8.001709</td>\n",
       "      <td>1982</td>\n",
       "      <td>Richard Attenborough (dir.), Ben Kingsley, Joh...</td>\n",
       "    </tr>\n",
       "  </tbody>\n",
       "</table>\n",
       "<p>250 rows × 5 columns</p>\n",
       "</div>"
      ],
      "text/plain": [
       "     place               movie_title    rating  year  \\\n",
       "0        1  The Shawshank Redemption  9.235741  1994   \n",
       "1        2             The Godfather  9.155873  1972   \n",
       "2        3           The Dark Knight  8.991541  2008   \n",
       "3        4     The Godfather Part II  8.983825  1974   \n",
       "4        5              12 Angry Men  8.953004  1957   \n",
       "..     ...                       ...       ...   ...   \n",
       "245    246               Dersu Uzala  8.005359  1975   \n",
       "246    247                  The Help  8.005197  2011   \n",
       "247    248                   Aladdin  8.003953  1992   \n",
       "248    249        Dances with Wolves  8.001788  1990   \n",
       "249    250                    Gandhi  8.001709  1982   \n",
       "\n",
       "                                             star_cast  \n",
       "0    Frank Darabont (dir.), Tim Robbins, Morgan Fre...  \n",
       "1    Francis Ford Coppola (dir.), Marlon Brando, Al...  \n",
       "2    Christopher Nolan (dir.), Christian Bale, Heat...  \n",
       "3    Francis Ford Coppola (dir.), Al Pacino, Robert...  \n",
       "4        Sidney Lumet (dir.), Henry Fonda, Lee J. Cobb  \n",
       "..                                                 ...  \n",
       "245  Akira Kurosawa (dir.), Maksim Munzuk, Yuriy So...  \n",
       "246        Tate Taylor (dir.), Viola Davis, Emma Stone  \n",
       "247  Ron Clements (dir.), Scott Weinger, Robin Will...  \n",
       "248  Kevin Costner (dir.), Kevin Costner, Mary McDo...  \n",
       "249  Richard Attenborough (dir.), Ben Kingsley, Joh...  \n",
       "\n",
       "[250 rows x 5 columns]"
      ]
     },
     "execution_count": 17,
     "metadata": {},
     "output_type": "execute_result"
    }
   ],
   "source": [
    "# display all the contents or data in the dataframe\n",
    "\n",
    "imdb_df"
   ]
  },
  {
   "cell_type": "code",
   "execution_count": 18,
   "id": "fa198521",
   "metadata": {},
   "outputs": [
    {
     "data": {
      "text/html": [
       "<div>\n",
       "<style scoped>\n",
       "    .dataframe tbody tr th:only-of-type {\n",
       "        vertical-align: middle;\n",
       "    }\n",
       "\n",
       "    .dataframe tbody tr th {\n",
       "        vertical-align: top;\n",
       "    }\n",
       "\n",
       "    .dataframe thead th {\n",
       "        text-align: right;\n",
       "    }\n",
       "</style>\n",
       "<table border=\"1\" class=\"dataframe\">\n",
       "  <thead>\n",
       "    <tr style=\"text-align: right;\">\n",
       "      <th></th>\n",
       "      <th>place</th>\n",
       "      <th>movie_title</th>\n",
       "      <th>rating</th>\n",
       "      <th>year</th>\n",
       "      <th>star_cast</th>\n",
       "    </tr>\n",
       "  </thead>\n",
       "  <tbody>\n",
       "    <tr>\n",
       "      <th>0</th>\n",
       "      <td>1</td>\n",
       "      <td>The Shawshank Redemption</td>\n",
       "      <td>9.235741</td>\n",
       "      <td>1994</td>\n",
       "      <td>Frank Darabont (dir.), Tim Robbins, Morgan Fre...</td>\n",
       "    </tr>\n",
       "    <tr>\n",
       "      <th>1</th>\n",
       "      <td>2</td>\n",
       "      <td>The Godfather</td>\n",
       "      <td>9.155873</td>\n",
       "      <td>1972</td>\n",
       "      <td>Francis Ford Coppola (dir.), Marlon Brando, Al...</td>\n",
       "    </tr>\n",
       "    <tr>\n",
       "      <th>2</th>\n",
       "      <td>3</td>\n",
       "      <td>The Dark Knight</td>\n",
       "      <td>8.991541</td>\n",
       "      <td>2008</td>\n",
       "      <td>Christopher Nolan (dir.), Christian Bale, Heat...</td>\n",
       "    </tr>\n",
       "    <tr>\n",
       "      <th>3</th>\n",
       "      <td>4</td>\n",
       "      <td>The Godfather Part II</td>\n",
       "      <td>8.983825</td>\n",
       "      <td>1974</td>\n",
       "      <td>Francis Ford Coppola (dir.), Al Pacino, Robert...</td>\n",
       "    </tr>\n",
       "    <tr>\n",
       "      <th>4</th>\n",
       "      <td>5</td>\n",
       "      <td>12 Angry Men</td>\n",
       "      <td>8.953004</td>\n",
       "      <td>1957</td>\n",
       "      <td>Sidney Lumet (dir.), Henry Fonda, Lee J. Cobb</td>\n",
       "    </tr>\n",
       "    <tr>\n",
       "      <th>5</th>\n",
       "      <td>6</td>\n",
       "      <td>Schindler's List</td>\n",
       "      <td>8.939970</td>\n",
       "      <td>1993</td>\n",
       "      <td>Steven Spielberg (dir.), Liam Neeson, Ralph Fi...</td>\n",
       "    </tr>\n",
       "    <tr>\n",
       "      <th>6</th>\n",
       "      <td>7</td>\n",
       "      <td>The Lord of the Rings: The Return of the King</td>\n",
       "      <td>8.932248</td>\n",
       "      <td>2003</td>\n",
       "      <td>Peter Jackson (dir.), Elijah Wood, Viggo Morte...</td>\n",
       "    </tr>\n",
       "    <tr>\n",
       "      <th>7</th>\n",
       "      <td>8</td>\n",
       "      <td>Pulp Fiction</td>\n",
       "      <td>8.846418</td>\n",
       "      <td>1994</td>\n",
       "      <td>Quentin Tarantino (dir.), John Travolta, Uma T...</td>\n",
       "    </tr>\n",
       "    <tr>\n",
       "      <th>8</th>\n",
       "      <td>9</td>\n",
       "      <td>The Lord of the Rings: The Fellowship of the Ring</td>\n",
       "      <td>8.810895</td>\n",
       "      <td>2001</td>\n",
       "      <td>Peter Jackson (dir.), Elijah Wood, Ian McKellen</td>\n",
       "    </tr>\n",
       "    <tr>\n",
       "      <th>9</th>\n",
       "      <td>1</td>\n",
       "      <td>Il buono, il brutto, il cattivo</td>\n",
       "      <td>8.788975</td>\n",
       "      <td>1966</td>\n",
       "      <td>Sergio Leone (dir.), Clint Eastwood, Eli Wallach</td>\n",
       "    </tr>\n",
       "  </tbody>\n",
       "</table>\n",
       "</div>"
      ],
      "text/plain": [
       "   place                                        movie_title    rating  year  \\\n",
       "0      1                           The Shawshank Redemption  9.235741  1994   \n",
       "1      2                                      The Godfather  9.155873  1972   \n",
       "2      3                                    The Dark Knight  8.991541  2008   \n",
       "3      4                              The Godfather Part II  8.983825  1974   \n",
       "4      5                                       12 Angry Men  8.953004  1957   \n",
       "5      6                                   Schindler's List  8.939970  1993   \n",
       "6      7      The Lord of the Rings: The Return of the King  8.932248  2003   \n",
       "7      8                                       Pulp Fiction  8.846418  1994   \n",
       "8      9  The Lord of the Rings: The Fellowship of the Ring  8.810895  2001   \n",
       "9      1                    Il buono, il brutto, il cattivo  8.788975  1966   \n",
       "\n",
       "                                           star_cast  \n",
       "0  Frank Darabont (dir.), Tim Robbins, Morgan Fre...  \n",
       "1  Francis Ford Coppola (dir.), Marlon Brando, Al...  \n",
       "2  Christopher Nolan (dir.), Christian Bale, Heat...  \n",
       "3  Francis Ford Coppola (dir.), Al Pacino, Robert...  \n",
       "4      Sidney Lumet (dir.), Henry Fonda, Lee J. Cobb  \n",
       "5  Steven Spielberg (dir.), Liam Neeson, Ralph Fi...  \n",
       "6  Peter Jackson (dir.), Elijah Wood, Viggo Morte...  \n",
       "7  Quentin Tarantino (dir.), John Travolta, Uma T...  \n",
       "8    Peter Jackson (dir.), Elijah Wood, Ian McKellen  \n",
       "9   Sergio Leone (dir.), Clint Eastwood, Eli Wallach  "
      ]
     },
     "execution_count": 18,
     "metadata": {},
     "output_type": "execute_result"
    }
   ],
   "source": [
    "# display the first 10 datas in the dataframe\n",
    "\n",
    "imdb_df.head(10)"
   ]
  },
  {
   "cell_type": "code",
   "execution_count": 35,
   "id": "b611cd71",
   "metadata": {},
   "outputs": [
    {
     "data": {
      "text/html": [
       "<div>\n",
       "<style scoped>\n",
       "    .dataframe tbody tr th:only-of-type {\n",
       "        vertical-align: middle;\n",
       "    }\n",
       "\n",
       "    .dataframe tbody tr th {\n",
       "        vertical-align: top;\n",
       "    }\n",
       "\n",
       "    .dataframe thead th {\n",
       "        text-align: right;\n",
       "    }\n",
       "</style>\n",
       "<table border=\"1\" class=\"dataframe\">\n",
       "  <thead>\n",
       "    <tr style=\"text-align: right;\">\n",
       "      <th></th>\n",
       "      <th>place</th>\n",
       "      <th>movie_title</th>\n",
       "      <th>rating</th>\n",
       "      <th>year</th>\n",
       "      <th>star_cast</th>\n",
       "    </tr>\n",
       "  </thead>\n",
       "  <tbody>\n",
       "    <tr>\n",
       "      <th>240</th>\n",
       "      <td>241</td>\n",
       "      <td>The Sound of Music</td>\n",
       "      <td>8.013245</td>\n",
       "      <td>1965</td>\n",
       "      <td>Robert Wise (dir.), Julie Andrews, Christopher...</td>\n",
       "    </tr>\n",
       "    <tr>\n",
       "      <th>241</th>\n",
       "      <td>242</td>\n",
       "      <td>It Happened One Night</td>\n",
       "      <td>8.012750</td>\n",
       "      <td>1934</td>\n",
       "      <td>Frank Capra (dir.), Clark Gable, Claudette Col...</td>\n",
       "    </tr>\n",
       "    <tr>\n",
       "      <th>242</th>\n",
       "      <td>243</td>\n",
       "      <td>Persona</td>\n",
       "      <td>8.011819</td>\n",
       "      <td>1966</td>\n",
       "      <td>Ingmar Bergman (dir.), Bibi Andersson, Liv Ull...</td>\n",
       "    </tr>\n",
       "    <tr>\n",
       "      <th>243</th>\n",
       "      <td>244</td>\n",
       "      <td>Life of Brian</td>\n",
       "      <td>8.009374</td>\n",
       "      <td>1979</td>\n",
       "      <td>Terry Jones (dir.), Graham Chapman, John Cleese</td>\n",
       "    </tr>\n",
       "    <tr>\n",
       "      <th>244</th>\n",
       "      <td>245</td>\n",
       "      <td>The Iron Giant</td>\n",
       "      <td>8.006091</td>\n",
       "      <td>1999</td>\n",
       "      <td>Brad Bird (dir.), Eli Marienthal, Harry Connic...</td>\n",
       "    </tr>\n",
       "    <tr>\n",
       "      <th>245</th>\n",
       "      <td>246</td>\n",
       "      <td>Dersu Uzala</td>\n",
       "      <td>8.005359</td>\n",
       "      <td>1975</td>\n",
       "      <td>Akira Kurosawa (dir.), Maksim Munzuk, Yuriy So...</td>\n",
       "    </tr>\n",
       "    <tr>\n",
       "      <th>246</th>\n",
       "      <td>247</td>\n",
       "      <td>The Help</td>\n",
       "      <td>8.005197</td>\n",
       "      <td>2011</td>\n",
       "      <td>Tate Taylor (dir.), Viola Davis, Emma Stone</td>\n",
       "    </tr>\n",
       "    <tr>\n",
       "      <th>247</th>\n",
       "      <td>248</td>\n",
       "      <td>Aladdin</td>\n",
       "      <td>8.003953</td>\n",
       "      <td>1992</td>\n",
       "      <td>Ron Clements (dir.), Scott Weinger, Robin Will...</td>\n",
       "    </tr>\n",
       "    <tr>\n",
       "      <th>248</th>\n",
       "      <td>249</td>\n",
       "      <td>Dances with Wolves</td>\n",
       "      <td>8.001788</td>\n",
       "      <td>1990</td>\n",
       "      <td>Kevin Costner (dir.), Kevin Costner, Mary McDo...</td>\n",
       "    </tr>\n",
       "    <tr>\n",
       "      <th>249</th>\n",
       "      <td>250</td>\n",
       "      <td>Gandhi</td>\n",
       "      <td>8.001709</td>\n",
       "      <td>1982</td>\n",
       "      <td>Richard Attenborough (dir.), Ben Kingsley, Joh...</td>\n",
       "    </tr>\n",
       "  </tbody>\n",
       "</table>\n",
       "</div>"
      ],
      "text/plain": [
       "     place            movie_title    rating  year  \\\n",
       "240    241     The Sound of Music  8.013245  1965   \n",
       "241    242  It Happened One Night  8.012750  1934   \n",
       "242    243                Persona  8.011819  1966   \n",
       "243    244          Life of Brian  8.009374  1979   \n",
       "244    245         The Iron Giant  8.006091  1999   \n",
       "245    246            Dersu Uzala  8.005359  1975   \n",
       "246    247               The Help  8.005197  2011   \n",
       "247    248                Aladdin  8.003953  1992   \n",
       "248    249     Dances with Wolves  8.001788  1990   \n",
       "249    250                 Gandhi  8.001709  1982   \n",
       "\n",
       "                                             star_cast  \n",
       "240  Robert Wise (dir.), Julie Andrews, Christopher...  \n",
       "241  Frank Capra (dir.), Clark Gable, Claudette Col...  \n",
       "242  Ingmar Bergman (dir.), Bibi Andersson, Liv Ull...  \n",
       "243    Terry Jones (dir.), Graham Chapman, John Cleese  \n",
       "244  Brad Bird (dir.), Eli Marienthal, Harry Connic...  \n",
       "245  Akira Kurosawa (dir.), Maksim Munzuk, Yuriy So...  \n",
       "246        Tate Taylor (dir.), Viola Davis, Emma Stone  \n",
       "247  Ron Clements (dir.), Scott Weinger, Robin Will...  \n",
       "248  Kevin Costner (dir.), Kevin Costner, Mary McDo...  \n",
       "249  Richard Attenborough (dir.), Ben Kingsley, Joh...  "
      ]
     },
     "execution_count": 35,
     "metadata": {},
     "output_type": "execute_result"
    }
   ],
   "source": [
    "# display the last 10 datas in the dataframe\n",
    "\n",
    "imdb_df.tail(10)"
   ]
  },
  {
   "cell_type": "code",
   "execution_count": 19,
   "id": "99b13466",
   "metadata": {},
   "outputs": [
    {
     "data": {
      "text/plain": [
       "Index(['place', 'movie_title', 'rating', 'year', 'star_cast'], dtype='object')"
      ]
     },
     "execution_count": 19,
     "metadata": {},
     "output_type": "execute_result"
    }
   ],
   "source": [
    "# prints the no of columns in csv file\n",
    "\n",
    "imdb_df.columns"
   ]
  },
  {
   "cell_type": "markdown",
   "id": "f8bb4aea",
   "metadata": {},
   "source": [
    "# Step 2 : Data Profilling and Cleaning"
   ]
  },
  {
   "cell_type": "code",
   "execution_count": 20,
   "id": "be7042f3",
   "metadata": {},
   "outputs": [
    {
     "name": "stdout",
     "output_type": "stream",
     "text": [
      "<class 'pandas.core.frame.DataFrame'>\n",
      "RangeIndex: 250 entries, 0 to 249\n",
      "Data columns (total 5 columns):\n",
      " #   Column       Non-Null Count  Dtype  \n",
      "---  ------       --------------  -----  \n",
      " 0   place        250 non-null    int64  \n",
      " 1   movie_title  250 non-null    object \n",
      " 2   rating       250 non-null    float64\n",
      " 3   year         250 non-null    int64  \n",
      " 4   star_cast    250 non-null    object \n",
      "dtypes: float64(1), int64(2), object(2)\n",
      "memory usage: 9.9+ KB\n"
     ]
    }
   ],
   "source": [
    "imdb_df.info()"
   ]
  },
  {
   "cell_type": "code",
   "execution_count": 22,
   "id": "4b58affc",
   "metadata": {},
   "outputs": [
    {
     "name": "stdout",
     "output_type": "stream",
     "text": [
      "\n",
      "Columns with missing value\n",
      "\n",
      "place          False\n",
      "movie_title    False\n",
      "rating         False\n",
      "year           False\n",
      "star_cast      False\n",
      "dtype: bool\n"
     ]
    }
   ],
   "source": [
    "# check if any column contains null values\n",
    "\n",
    "print(\"\\nColumns with missing value\\n\") \n",
    "print(imdb_df.isnull().any())"
   ]
  },
  {
   "cell_type": "markdown",
   "id": "d3c5fba0",
   "metadata": {},
   "source": [
    "# Handling Null values"
   ]
  },
  {
   "cell_type": "code",
   "execution_count": 23,
   "id": "f39010e4",
   "metadata": {},
   "outputs": [
    {
     "data": {
      "text/plain": [
       "0"
      ]
     },
     "execution_count": 23,
     "metadata": {},
     "output_type": "execute_result"
    }
   ],
   "source": [
    "# There are a few columns that contain null values,to get the total no of null value columns we use isnull()+sum()+sum() method\n",
    "\n",
    "imdb_df.isnull().sum().sum()"
   ]
  },
  {
   "cell_type": "code",
   "execution_count": 24,
   "id": "05bb19cd",
   "metadata": {},
   "outputs": [
    {
     "data": {
      "text/plain": [
       "place          0\n",
       "movie_title    0\n",
       "rating         0\n",
       "year           0\n",
       "star_cast      0\n",
       "dtype: int64"
      ]
     },
     "execution_count": 24,
     "metadata": {},
     "output_type": "execute_result"
    }
   ],
   "source": [
    "# count the no of null values in each column,to get this by using isnull()+sum() method\n",
    "\n",
    "imdb_df.isnull().sum()"
   ]
  },
  {
   "cell_type": "markdown",
   "id": "604a36ca",
   "metadata": {},
   "source": [
    "# Step 3 : EDA and Visualization"
   ]
  },
  {
   "cell_type": "code",
   "execution_count": 25,
   "id": "18702ea0",
   "metadata": {},
   "outputs": [],
   "source": [
    "# seperate some of the data into numeric and categorical\n",
    "\n",
    "df_num = imdb_df[['rating','year']]\n",
    "df_cat = imdb_df[['place','movie_title','star_cast']]"
   ]
  },
  {
   "cell_type": "code",
   "execution_count": 28,
   "id": "ccfd2691",
   "metadata": {},
   "outputs": [
    {
     "data": {
      "image/png": "[encoded data removed]",
      "text/plain": [
       "<Figure size 640x480 with 1 Axes>"
      ]
     },
     "metadata": {},
     "output_type": "display_data"
    },
    {
     "data": {
      "image/png": "[encoded data removed]",
      "text/plain": [
       "<Figure size 640x480 with 1 Axes>"
      ]
     },
     "metadata": {},
     "output_type": "display_data"
    }
   ],
   "source": [
    "# plot numeric data(Histogrm)\n",
    "\n",
    "for i in df_num.columns:\n",
    "    plt.hist(df_num[i],color=\"green\",ec=\"red\",lw=5)\n",
    "    plt.title(i)\n",
    "    plt.show()"
   ]
  },
  {
   "cell_type": "code",
   "execution_count": 29,
   "id": "29d49321",
   "metadata": {},
   "outputs": [
    {
     "data": {
      "text/plain": [
       "<AxesSubplot:>"
      ]
     },
     "execution_count": 29,
     "metadata": {},
     "output_type": "execute_result"
    },
    {
     "data": {
      "image/png": "[encoded data removed]",
      "text/plain": [
       "<Figure size 640x480 with 2 Axes>"
      ]
     },
     "metadata": {},
     "output_type": "display_data"
    }
   ],
   "source": [
    "# plot a correlation heatmap between the numeric columns\n",
    "# (heatmap)\n",
    "\n",
    "sns.heatmap(df_num.corr())\n",
    " "
   ]
  },
  {
   "cell_type": "code",
   "execution_count": 38,
   "id": "176bd165",
   "metadata": {},
   "outputs": [
    {
     "data": {
      "text/plain": [
       "The Shawshank Redemption                     1\n",
       "Tonari no Totoro                             1\n",
       "Gone with the Wind                           1\n",
       "Lock, Stock and Two Smoking Barrels          1\n",
       "Inside Out                                   1\n",
       "Dial M for Murder                            1\n",
       "El secreto de sus ojos                       1\n",
       "Hauru no ugoku shiro                         1\n",
       "Three Billboards Outside Ebbing, Missouri    1\n",
       "Trainspotting                                1\n",
       "Name: movie_title, dtype: int64"
      ]
     },
     "execution_count": 38,
     "metadata": {},
     "output_type": "execute_result"
    }
   ],
   "source": [
    "# Top 10 movies on IMDB\n",
    "\n",
    "imdb_df.movie_title.value_counts().head(10)"
   ]
  },
  {
   "cell_type": "code",
   "execution_count": 39,
   "id": "af3149cf",
   "metadata": {},
   "outputs": [
    {
     "data": {
      "text/plain": [
       "Text(0.5, 1.0, '\\n\\nTop movie in IMDB\\n\\n')"
      ]
     },
     "execution_count": 39,
     "metadata": {},
     "output_type": "execute_result"
    },
    {
     "data": {
      "image/png": "[encoded data removed]",
      "text/plain": [
       "<Figure size 1200x600 with 1 Axes>"
      ]
     },
     "metadata": {},
     "output_type": "display_data"
    }
   ],
   "source": [
    "# plot a barchart based on the above information\n",
    "\n",
    "plt.figure(figsize=(12,6))\n",
    "sns.countplot(y=\"movie_title\",order=imdb_df[\"movie_title\"].value_counts().index[0:10],data=imdb_df)\n",
    "plt.title(\"\\n\\nTop movie in IMDB\\n\\n\")"
   ]
  },
  {
   "cell_type": "markdown",
   "id": "109653d9",
   "metadata": {},
   "source": [
    "Since we want to find out how well movies are liked or disliked,it is identifed by using rating .so the most important variable is the movie rating."
   ]
  },
  {
   "cell_type": "code",
   "execution_count": 40,
   "id": "63350303",
   "metadata": {},
   "outputs": [
    {
     "data": {
      "text/plain": [
       "9.235741    1\n",
       "8.092231    1\n",
       "8.121681    1\n",
       "8.120190    1\n",
       "8.119889    1\n",
       "           ..\n",
       "8.264118    1\n",
       "8.261650    1\n",
       "8.261622    1\n",
       "8.259311    1\n",
       "8.001709    1\n",
       "Name: rating, Length: 250, dtype: int64"
      ]
     },
     "execution_count": 40,
     "metadata": {},
     "output_type": "execute_result"
    }
   ],
   "source": [
    "imdb_df['rating'].value_counts()"
   ]
  },
  {
   "cell_type": "markdown",
   "id": "f485f6a8",
   "metadata": {},
   "source": [
    "A histogram will show you the distribution and the describe() method will give additional basic statistics.\n",
    "describe() method will display basic statistics about a column."
   ]
  },
  {
   "cell_type": "code",
   "execution_count": 41,
   "id": "0354de26",
   "metadata": {},
   "outputs": [
    {
     "data": {
      "text/plain": [
       "count    250.000000\n",
       "mean       8.253282\n",
       "std        0.232543\n",
       "min        8.001709\n",
       "25%        8.074229\n",
       "50%        8.199530\n",
       "75%        8.361322\n",
       "max        9.235741\n",
       "Name: rating, dtype: float64"
      ]
     },
     "execution_count": 41,
     "metadata": {},
     "output_type": "execute_result"
    }
   ],
   "source": [
    "imdb_df['rating'].describe()"
   ]
  },
  {
   "cell_type": "markdown",
   "id": "d85b7b7a",
   "metadata": {},
   "source": [
    "Visual representation of the above data by creating a histogram."
   ]
  },
  {
   "cell_type": "code",
   "execution_count": 47,
   "id": "97750e4f",
   "metadata": {},
   "outputs": [
    {
     "data": {
      "text/plain": [
       "<AxesSubplot:>"
      ]
     },
     "execution_count": 47,
     "metadata": {},
     "output_type": "execute_result"
    },
    {
     "data": {
      "image/png": "[encoded data removed]",
      "text/plain": [
       "<Figure size 640x480 with 1 Axes>"
      ]
     },
     "metadata": {},
     "output_type": "display_data"
    }
   ],
   "source": [
    "imdb_df['rating'].hist(bins=10,color =\"yellow\",ec=\"blue\",lw=2)"
   ]
  },
  {
   "cell_type": "markdown",
   "id": "d2ef7f8f",
   "metadata": {},
   "source": [
    "# Conclusion"
   ]
  },
  {
   "cell_type": "markdown",
   "id": "78c50106",
   "metadata": {},
   "source": [
    "We want to find out how well movies are liked or disliked,it is identifed by using rating .so the most important variable is the movie rating.\n",
    "Conclusions are already given in each analysis."
   ]
  },
  {
   "cell_type": "markdown",
   "id": "8b4d6c4b",
   "metadata": {},
   "source": [
    "# References"
   ]
  },
  {
   "cell_type": "markdown",
   "id": "48c05180",
   "metadata": {},
   "source": [
    "1. IMDB Dataset\n",
    "2. Tutorials point(pandas,seaborn,matplotlib)\n",
    "3. W3school(pandas,seaborn,matplotlib)\n",
    "4. Google for EDA\n",
    "5. Youtube for EDA\n",
    "6. and Various sites."
   ]
  },
  {
   "cell_type": "code",
   "execution_count": null,
   "id": "ceb5c55d",
   "metadata": {},
   "outputs": [],
   "source": []
  }
 ],
 "metadata": {
  "kernelspec": {
   "display_name": "Python 3 (ipykernel)",
   "language": "python",
   "name": "python3"
  },
  "language_info": {
   "codemirror_mode": {
    "name": "ipython",
    "version": 3
   },
   "file_extension": ".py",
   "mimetype": "text/x-python",
   "name": "python",
   "nbconvert_exporter": "python",
   "pygments_lexer": "ipython3",
   "version": "3.9.13"
  }
 },
 "nbformat": 4,
 "nbformat_minor": 5
}
